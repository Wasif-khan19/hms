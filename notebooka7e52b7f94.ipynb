{
 "cells": [
  {
   "cell_type": "code",
   "execution_count": 1,
   "id": "f2d416d0",
   "metadata": {
    "_cell_guid": "0129d11b-2bef-4198-b68f-b013981801d8",
    "_uuid": "48cde10c-e5ce-4ad5-a154-b8159e0f637e",
    "collapsed": false,
    "execution": {
     "iopub.execute_input": "2024-08-19T19:14:40.851118Z",
     "iopub.status.busy": "2024-08-19T19:14:40.850659Z",
     "iopub.status.idle": "2024-08-19T19:14:40.863347Z",
     "shell.execute_reply": "2024-08-19T19:14:40.861956Z"
    },
    "jupyter": {
     "outputs_hidden": false
    },
    "papermill": {
     "duration": 0.019381,
     "end_time": "2024-08-19T19:14:40.866541",
     "exception": false,
     "start_time": "2024-08-19T19:14:40.847160",
     "status": "completed"
    },
    "tags": []
   },
   "outputs": [
    {
     "name": "stdout",
     "output_type": "stream",
     "text": [
      "Pakistan\n"
     ]
    }
   ],
   "source": [
    "print ('Pakistan')"
   ]
  }
 ],
 "metadata": {
  "kaggle": {
   "accelerator": "none",
   "dataSources": [],
   "isGpuEnabled": false,
   "isInternetEnabled": true,
   "language": "python",
   "sourceType": "notebook"
  },
  "kernelspec": {
   "display_name": "Python 3",
   "language": "python",
   "name": "python3"
  },
  "language_info": {
   "codemirror_mode": {
    "name": "ipython",
    "version": 3
   },
   "file_extension": ".py",
   "mimetype": "text/x-python",
   "name": "python",
   "nbconvert_exporter": "python",
   "pygments_lexer": "ipython3",
   "version": "3.10.13"
  },
  "papermill": {
   "default_parameters": {},
   "duration": 3.459824,
   "end_time": "2024-08-19T19:14:41.290147",
   "environment_variables": {},
   "exception": null,
   "input_path": "__notebook__.ipynb",
   "output_path": "__notebook__.ipynb",
   "parameters": {},
   "start_time": "2024-08-19T19:14:37.830323",
   "version": "2.5.0"
  }
 },
 "nbformat": 4,
 "nbformat_minor": 5
}
